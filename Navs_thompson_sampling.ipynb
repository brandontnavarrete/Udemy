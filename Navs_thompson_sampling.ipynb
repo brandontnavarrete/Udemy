{
  "nbformat": 4,
  "nbformat_minor": 0,
  "metadata": {
    "colab": {
      "provenance": []
    },
    "kernelspec": {
      "name": "python3",
      "display_name": "Python 3"
    }
  },
  "cells": [
    {
      "cell_type": "markdown",
      "metadata": {
        "id": "vPKTIRAtx232"
      },
      "source": [
        "# Thompson Sampling"
      ]
    },
    {
      "cell_type": "markdown",
      "metadata": {
        "id": "PqPv9zpAx-EE"
      },
      "source": [
        "## Importing the libraries"
      ]
    },
    {
      "cell_type": "code",
      "metadata": {
        "id": "lozuE-Fhx_QB"
      },
      "source": [
        "import numpy as np\n",
        "import matplotlib.pyplot as plt\n",
        "import pandas as pd"
      ],
      "execution_count": 4,
      "outputs": []
    },
    {
      "cell_type": "markdown",
      "metadata": {
        "id": "iqpVk5HhyGmO"
      },
      "source": [
        "## Importing the dataset"
      ]
    },
    {
      "cell_type": "code",
      "metadata": {
        "id": "kY4zzW4hyNfA"
      },
      "source": [
        "dataset = pd.read_csv('Ads_CTR_Optimisation.csv')"
      ],
      "execution_count": 5,
      "outputs": []
    },
    {
      "cell_type": "markdown",
      "metadata": {
        "id": "WqoXeWOYyQhB"
      },
      "source": [
        "## Implementing Thompson Sampling"
      ]
    },
    {
      "cell_type": "code",
      "metadata": {
        "id": "PCiHv51pyUII"
      },
      "source": [
        "import random\n",
        "\n",
        "N = 10000\n",
        "d = 10\n",
        "\n",
        "ads_selected = []                       # List to store the indices of selected ads\n",
        "numbers_of_rewards_1 = [0] * d          # List to keep track of the number of rewards 1 for each ad\n",
        "numbers_of_rewards_0 = [0] * d          # List to keep track of the number of rewards 0 for each ad\n",
        "total_reward = 0                         # Variable to store the cumulative reward\n",
        "\n",
        "for n in range(0, N):                    # Iterate for N rounds\n",
        "    ad = 0                               # Index of the selected ad\n",
        "    max_random = 0                       # Maximum random value observed so far\n",
        "\n",
        "    for i in range(0, d):                # Iterate over each available ad\n",
        "        random_beta = random.betavariate(numbers_of_rewards_1[i] + 1, numbers_of_rewards_0[i] + 1)\n",
        "        # Generate a random value from a beta distribution based on the reward counts\n",
        "\n",
        "        if (random_beta > max_random):   # If the generated random value is greater than the current maximum\n",
        "            max_random = random_beta     # Update the maximum random value\n",
        "            ad = i                       # Update the index of the selected ad\n",
        "\n",
        "    ads_selected.append(ad)              # Add the index of the selected ad to the ads_selected list\n",
        "\n",
        "    reward = dataset.values[n, ad]        # Get the reward for the selected ad from the dataset\n",
        "\n",
        "    if reward == 1:                       # If the reward is 1\n",
        "        numbers_of_rewards_1[ad] += 1     # Update the count of rewards 1 for the selected ad\n",
        "    else:\n",
        "        numbers_of_rewards_0[ad] += 1     # Update the count of rewards 0 for the selected ad\n",
        "\n",
        "    total_reward += reward                # Add the obtained reward to the cumulative reward\n"
      ],
      "execution_count": 6,
      "outputs": []
    },
    {
      "cell_type": "markdown",
      "metadata": {
        "id": "tweWsgTHyXhv"
      },
      "source": [
        "## Visualising the results - Histogram"
      ]
    },
    {
      "cell_type": "code",
      "metadata": {
        "id": "k8DJmN06yak3",
        "outputId": "5e85696c-44cd-419d-e80d-ff50ba0f3a08",
        "colab": {
          "base_uri": "https://localhost:8080/",
          "height": 472
        }
      },
      "source": [
        "plt.hist(ads_selected)\n",
        "plt.title('Histogram of ads selections')\n",
        "plt.xlabel('Ads')\n",
        "plt.ylabel('Number of times each ad was selected')\n",
        "plt.show()"
      ],
      "execution_count": 7,
      "outputs": [
        {
          "output_type": "display_data",
          "data": {
            "text/plain": [
              "<Figure size 640x480 with 1 Axes>"
            ],
            "image/png": "[encoded data removed]"
          },
          "metadata": {}
        }
      ]
    }
  ]
}